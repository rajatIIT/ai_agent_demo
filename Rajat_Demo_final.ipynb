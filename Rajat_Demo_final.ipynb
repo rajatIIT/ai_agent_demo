{
 "cells": [
  {
   "cell_type": "code",
   "execution_count": 2,
   "id": "f5b41171-bc9e-4950-aa94-cb73c409f59b",
   "metadata": {},
   "outputs": [
    {
     "name": "stderr",
     "output_type": "stream",
     "text": [
      "The `load_in_4bit` and `load_in_8bit` arguments are deprecated and will be removed in the future versions. Please, pass a `BitsAndBytesConfig` object in `quantization_config` argument instead.\n",
      "`low_cpu_mem_usage` was None, now default to True since model is quantized.\n"
     ]
    },
    {
     "data": {
      "application/vnd.jupyter.widget-view+json": {
       "model_id": "3635d15eaf734d959dc25d9b90ab772b",
       "version_major": 2,
       "version_minor": 0
      },
      "text/plain": [
       "Loading checkpoint shards:   0%|          | 0/3 [00:00<?, ?it/s]"
      ]
     },
     "metadata": {},
     "output_type": "display_data"
    }
   ],
   "source": [
    "# Load model directly\n",
    "from transformers import AutoTokenizer, AutoModelForCausalLM\n",
    "\n",
    "tokenizer = AutoTokenizer.from_pretrained(\"mistralai/Mistral-7B-Instruct-v0.2\")\n",
    "model = AutoModelForCausalLM.from_pretrained(\"mistralai/Mistral-7B-Instruct-v0.2\", load_in_8bit = True)"
   ]
  },
  {
   "cell_type": "code",
   "execution_count": 3,
   "id": "17f21ad8-58c5-45b7-8fc1-e4180d14654a",
   "metadata": {},
   "outputs": [],
   "source": [
    "content = \"\"\"\n",
    "you are a friendly bot. I will give you data and ask you a question. You have to answer the question based on the data.\n",
    "\n",
    "data:\n",
    "\n",
    "Born and raised in Stevenage, Hamilton began his career in karting aged six, winning several national titles and attracting the attention of Ron Dennis, who signed him to the McLaren-Mercedes Young Driver Programme in 1998. \n",
    "After winning the direct-drive Karting World Cup and European Championship in 2000, Hamilton progressed to junior formulae, where his successes included winning the Formula 3 Euro Series and the GP2 Series. He subsequently signed for McLaren in 2007, becoming the first black driver to compete in Formula One at the Australian Grand Prix. \n",
    "In his rookie season, Hamilton won four Grands Prix and set several records as he finished runner-up to Kimi Räikkönen by one point. Hamilton won his maiden title in 2008, making a title-deciding overtake on the last lap of the last race of the season to become the then-youngest World Drivers' Champion. The dominant Red Bull-Renault combination prevailed throughout his remaining four seasons at McLaren, with Hamilton achieving multiple race wins in each, including his involvement in a close four-way title battle in 2010.\n",
    "\n",
    "question:\n",
    "\n",
    "Where was Lewis Hamilton born?\n",
    "\n",
    "\"\"\""
   ]
  },
  {
   "cell_type": "code",
   "execution_count": 5,
   "id": "1c4d3172-5549-4a57-81f4-aa4537baea83",
   "metadata": {
    "scrolled": true
   },
   "outputs": [
    {
     "name": "stderr",
     "output_type": "stream",
     "text": [
      "The attention mask and the pad token id were not set. As a consequence, you may observe unexpected behavior. Please pass your input's `attention_mask` to obtain reliable results.\n",
      "Setting `pad_token_id` to `eos_token_id`:None for open-end generation.\n"
     ]
    },
    {
     "name": "stdout",
     "output_type": "stream",
     "text": [
      "<s> [INST] \n",
      "you are a friendly bot. I will give you data and ask you a question. You have to answer the question based on the data.\n",
      "\n",
      "data:\n",
      "\n",
      "Born and raised in Stevenage, Hamilton began his career in karting aged six, winning several national titles and attracting the attention of Ron Dennis, who signed him to the McLaren-Mercedes Young Driver Programme in 1998. \n",
      "After winning the direct-drive Karting World Cup and European Championship in 2000, Hamilton progressed to junior formulae, where his successes included winning the Formula 3 Euro Series and the GP2 Series. He subsequently signed for McLaren in 2007, becoming the first black driver to compete in Formula One at the Australian Grand Prix. \n",
      "In his rookie season, Hamilton won four Grands Prix and set several records as he finished runner-up to Kimi Räikkönen by one point. Hamilton won his maiden title in 2008, making a title-deciding overtake on the last lap of the last race of the season to become the then-youngest World Drivers' Champion. The dominant Red Bull-Renault combination prevailed throughout his remaining four seasons at McLaren, with Hamilton achieving multiple race wins in each, including his involvement in a close four-way title battle in 2010.\n",
      "\n",
      "question:\n",
      "\n",
      "Where was Lewis Hamilton born?\n",
      "\n",
      " [/INST] Lewis Hamilton was born in Stevenage, England.</s>\n"
     ]
    }
   ],
   "source": [
    "device = \"cuda\"\n",
    "# data =whateverfile.pdf\n",
    "\n",
    "#messages = [\n",
    "#    {\"role\": \"user\", \"content\": \"you have to answer in Spanish.\"},\n",
    "#    {\"role\": \"assistant\", \"content\": \"Hola\"}, # \"content\": \"You have to answer questions based on context. Hola\"\n",
    "#    {\"role\": \"user\", \"content\": \"How to make tea?\"},\n",
    "#]\n",
    "\n",
    "messages = [\n",
    "    {\"role\": \"user\", \"content\": content},\n",
    "\n",
    "]\n",
    "# data will come in line aboe square bracket \n",
    "encodeds = tokenizer.apply_chat_template(messages, return_tensors=\"pt\")\n",
    "\n",
    "model_inputs = encodeds.to(device)\n",
    "\n",
    "generated_ids = model.generate(model_inputs, max_new_tokens=1000, do_sample=True)\n",
    "decoded = tokenizer.batch_decode(generated_ids)\n",
    "print(decoded[0])"
   ]
  },
  {
   "cell_type": "code",
   "execution_count": 6,
   "id": "d3fe37a1-8e2f-4278-8f42-c9f45a7d3d13",
   "metadata": {},
   "outputs": [],
   "source": [
    "messages = [\n",
    "    {\"role\": \"user\", \"content\": \"you have to answer in Spanish. I will give you data and then I will ask a question. You have to answer\"},\n",
    "\n",
    "]"
   ]
  },
  {
   "cell_type": "code",
   "execution_count": 1,
   "id": "2df1ea18-e7da-49d1-86a4-5d5800928279",
   "metadata": {},
   "outputs": [
    {
     "data": {
      "text/plain": [
       "4"
      ]
     },
     "execution_count": 1,
     "metadata": {},
     "output_type": "execute_result"
    }
   ],
   "source": [
    "2+2"
   ]
  },
  {
   "cell_type": "code",
   "execution_count": null,
   "id": "c6b44159-4af0-47d1-86b6-1fffd4bd4d6a",
   "metadata": {},
   "outputs": [],
   "source": []
  },
  {
   "cell_type": "code",
   "execution_count": 9,
   "id": "d44aba59-2c9e-4653-b7ca-f6c99b1ff545",
   "metadata": {},
   "outputs": [
    {
     "data": {
      "text/plain": [
       "[1, 733, 16289, 28793, 1602, 298, 1038, 9510, 28804, 733, 28748, 16289, 28793]"
      ]
     },
     "execution_count": 9,
     "metadata": {},
     "output_type": "execute_result"
    }
   ],
   "source": [
    "messages = [\n",
    "    {\"role\": \"user\", \"content\": \"How to make tea?\"},\n",
    "]\n",
    "\n",
    "encodeds = tokenizer.apply_chat_template(messages, add_generation_prompt=True)\n",
    "encodeds"
   ]
  },
  {
   "cell_type": "code",
   "execution_count": 10,
   "id": "2ef4e5a8-2000-490d-8b79-5d5c008a1fa3",
   "metadata": {},
   "outputs": [
    {
     "data": {
      "text/plain": [
       "[1, 733, 16289, 28793, 1602, 298, 1038, 9510, 28804, 733, 28748, 16289, 28793]"
      ]
     },
     "execution_count": 10,
     "metadata": {},
     "output_type": "execute_result"
    }
   ],
   "source": [
    "messages = [\n",
    "    {\"role\": \"user\", \"content\": \"How to make tea?\"},\n",
    "]\n",
    "\n",
    "encodeds = tokenizer.apply_chat_template(messages, add_generation_prompt=False)\n",
    "encodeds"
   ]
  },
  {
   "cell_type": "code",
   "execution_count": 13,
   "id": "3637b679-ac78-499e-9426-0291b2738b07",
   "metadata": {},
   "outputs": [
    {
     "data": {
      "text/plain": [
       "'<s> [INST] How to make tea? [/INST]'"
      ]
     },
     "execution_count": 13,
     "metadata": {},
     "output_type": "execute_result"
    }
   ],
   "source": [
    "tokenizer.decode(encodeds)"
   ]
  },
  {
   "cell_type": "code",
   "execution_count": null,
   "id": "92942aee-704a-4e31-b4cf-49493a178848",
   "metadata": {},
   "outputs": [],
   "source": []
  }
 ],
 "metadata": {
  "kernelspec": {
   "display_name": "Python 3 (ipykernel)",
   "language": "python",
   "name": "python3"
  },
  "language_info": {
   "codemirror_mode": {
    "name": "ipython",
    "version": 3
   },
   "file_extension": ".py",
   "mimetype": "text/x-python",
   "name": "python",
   "nbconvert_exporter": "python",
   "pygments_lexer": "ipython3",
   "version": "3.11.10"
  }
 },
 "nbformat": 4,
 "nbformat_minor": 5
}
